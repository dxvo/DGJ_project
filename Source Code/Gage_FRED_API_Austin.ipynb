{
 "cells": [
  {
   "cell_type": "markdown",
   "metadata": {},
   "source": [
    "## Houston - House Price Index vs Energy Industry\n",
    "----\n",
    "\n",
    "### Analysis\n",
    "* This study shall focus on the correlation between fluctuations in oil and gas prices and the strength of the correlation with house prices in Houston.\n",
    "* Houston is the oil and gas capital of the USA - and it would be interesting to investigate the impact of oil prices on the local economy with respect to the housing market.\n",
    "* In addition to focussing on the city of Houston, other major cities in Texas, such as Dallas and Austin shall be used to confirm the strength of the impact emanating from the energy industry.\n",
    "* A comparison of the labor market involved in the oil/gas sector by each of the cities is a good starting point on which to base the argument.\n",
    "\n",
    "---\n",
    "\n",
    "#### Note\n",
    "* The FRED API shall be utilized for gathering the data."
   ]
  },
  {
   "cell_type": "code",
   "execution_count": 56,
   "metadata": {
    "scrolled": true
   },
   "outputs": [],
   "source": [
    "# Dependencies and Setup\n",
    "import matplotlib.pyplot as plt\n",
    "import pandas as pd\n",
    "import numpy as np\n",
    "import requests\n",
    "import time\n",
    "import requests\n",
    "import json\n",
    "\n",
    "# Import API key\n",
    "import config\n",
    "from config import api_key\n",
    "\n",
    "# Output File (CSV)\n",
    "output_data_file = \"output_data/quarter_data.csv\"\n",
    "output_data_file_2 = \"output_data/annual_data.csv\"\n"
   ]
  },
  {
   "cell_type": "code",
   "execution_count": 57,
   "metadata": {
    "scrolled": true
   },
   "outputs": [],
   "source": [
    "# New Dependency! Use this to pretty print the JSON\n",
    "# https://docs.python.org/3/library/pprint.html\n",
    "from pprint import pprint"
   ]
  },
  {
   "cell_type": "code",
   "execution_count": 76,
   "metadata": {},
   "outputs": [],
   "source": [
    "# The URL for the FRED API\n",
    "base = 'https://api.stlouisfed.org/fred/series/observations?series_id='\n",
    "\n",
    "# List of FRED series IDs and their description\n",
    "q_dict = {'ATNHPIUS12420Q': 'House Price Index for Austin',\n",
    "          'AUST448URN':'Unemployment Rate in Austin',\n",
    "          #Thousands of Persons (monthly), \n",
    "           'AUST448NRMN': 'Mining, Logging, and Construction',\n",
    "           'AUST448MFG': 'Manufacturing',\n",
    "           'AUST448TRAD': 'Trade, Transportation, and Utilities',\n",
    "           'AUST448FIRE': 'Financial Activities',\n",
    "           'AUST448PBSV': 'Professional and Business Services',\n",
    "           'AUST448EDUH': 'Education and Health Services',          \n",
    "           'AUST448LEIH': 'Leisure and Hospitality',\n",
    "           'AUST448GOVT': 'Government',\n",
    "           #Dollars (monthly)\n",
    "           'WTISPLC': 'Global price of WTI Crude',\n",
    "           #Percent (monthly)\n",
    "           'MORTGAGE30US': '30Yr Fixed Mortgage Rate',\n",
    "           #CPI (monthly)\n",
    "           }\n",
    "\n",
    "# Include start date, API key from config.py file and file type json\n",
    "start_date = '1990-01-02'\n",
    "s_dates = '&observation_start={}'.format(start_date)\n",
    "end_date = '2018-09-02'\n",
    "e_dates = '&observation_end={}'.format(end_date)\n",
    "\n",
    "api_key = '&api_key={}'.format(config.api_key)\n",
    "\n",
    "ftype = '&file_type=json'\n",
    "frequency = 'q'\n",
    "freq = '&frequency={}'.format(frequency)\n",
    "#aggregation = 'eop'\n",
    "#agg = '&aggregation_method={}'.format(aggregation)"
   ]
  },
  {
   "cell_type": "code",
   "execution_count": 78,
   "metadata": {},
   "outputs": [
    {
     "data": {
      "text/html": [
       "<div>\n",
       "<style scoped>\n",
       "    .dataframe tbody tr th:only-of-type {\n",
       "        vertical-align: middle;\n",
       "    }\n",
       "\n",
       "    .dataframe tbody tr th {\n",
       "        vertical-align: top;\n",
       "    }\n",
       "\n",
       "    .dataframe thead th {\n",
       "        text-align: right;\n",
       "    }\n",
       "</style>\n",
       "<table border=\"1\" class=\"dataframe\">\n",
       "  <thead>\n",
       "    <tr style=\"text-align: right;\">\n",
       "      <th></th>\n",
       "      <th>House Price Index for Austin</th>\n",
       "      <th>Unemployment Rate in Austin</th>\n",
       "      <th>Mining, Logging, and Construction</th>\n",
       "      <th>Manufacturing</th>\n",
       "      <th>Trade, Transportation, and Utilities</th>\n",
       "      <th>Financial Activities</th>\n",
       "      <th>Professional and Business Services</th>\n",
       "      <th>Education and Health Services</th>\n",
       "      <th>Leisure and Hospitality</th>\n",
       "      <th>Government</th>\n",
       "      <th>Global price of WTI Crude</th>\n",
       "      <th>30Yr Fixed Mortgage Rate</th>\n",
       "    </tr>\n",
       "  </thead>\n",
       "  <tbody>\n",
       "    <tr>\n",
       "      <th>2017-07-01</th>\n",
       "      <td>311.55</td>\n",
       "      <td>3.2</td>\n",
       "      <td>61.8</td>\n",
       "      <td>57.5</td>\n",
       "      <td>177.7</td>\n",
       "      <td>60.2</td>\n",
       "      <td>176.8</td>\n",
       "      <td>121.1</td>\n",
       "      <td>125.7</td>\n",
       "      <td>179.7</td>\n",
       "      <td>48.163</td>\n",
       "      <td>3.88</td>\n",
       "    </tr>\n",
       "    <tr>\n",
       "      <th>2017-10-01</th>\n",
       "      <td>313.5</td>\n",
       "      <td>2.7</td>\n",
       "      <td>61.9</td>\n",
       "      <td>57.7</td>\n",
       "      <td>178.9</td>\n",
       "      <td>60.7</td>\n",
       "      <td>181.9</td>\n",
       "      <td>120.9</td>\n",
       "      <td>129.3</td>\n",
       "      <td>177.5</td>\n",
       "      <td>55.367</td>\n",
       "      <td>3.92</td>\n",
       "    </tr>\n",
       "    <tr>\n",
       "      <th>2018-01-01</th>\n",
       "      <td>318.32</td>\n",
       "      <td>3.0</td>\n",
       "      <td>63.8</td>\n",
       "      <td>58.3</td>\n",
       "      <td>183.1</td>\n",
       "      <td>61.2</td>\n",
       "      <td>185.0</td>\n",
       "      <td>121.6</td>\n",
       "      <td>130.2</td>\n",
       "      <td>178.0</td>\n",
       "      <td>62.887</td>\n",
       "      <td>4.28</td>\n",
       "    </tr>\n",
       "    <tr>\n",
       "      <th>2018-04-01</th>\n",
       "      <td>326.51</td>\n",
       "      <td>2.9</td>\n",
       "      <td>64.2</td>\n",
       "      <td>58.0</td>\n",
       "      <td>185.4</td>\n",
       "      <td>61.8</td>\n",
       "      <td>185.3</td>\n",
       "      <td>120.7</td>\n",
       "      <td>132.9</td>\n",
       "      <td>178.2</td>\n",
       "      <td>68.033</td>\n",
       "      <td>4.54</td>\n",
       "    </tr>\n",
       "    <tr>\n",
       "      <th>2018-07-01</th>\n",
       "      <td>332.13</td>\n",
       "      <td>3.0</td>\n",
       "      <td>66.9</td>\n",
       "      <td>57.5</td>\n",
       "      <td>187.6</td>\n",
       "      <td>61.9</td>\n",
       "      <td>186.5</td>\n",
       "      <td>120.0</td>\n",
       "      <td>134.3</td>\n",
       "      <td>179.2</td>\n",
       "      <td>69.757</td>\n",
       "      <td>4.57</td>\n",
       "    </tr>\n",
       "  </tbody>\n",
       "</table>\n",
       "</div>"
      ],
      "text/plain": [
       "           House Price Index for Austin Unemployment Rate in Austin  \\\n",
       "2017-07-01                       311.55                         3.2   \n",
       "2017-10-01                        313.5                         2.7   \n",
       "2018-01-01                       318.32                         3.0   \n",
       "2018-04-01                       326.51                         2.9   \n",
       "2018-07-01                       332.13                         3.0   \n",
       "\n",
       "           Mining, Logging, and Construction Manufacturing  \\\n",
       "2017-07-01                              61.8          57.5   \n",
       "2017-10-01                              61.9          57.7   \n",
       "2018-01-01                              63.8          58.3   \n",
       "2018-04-01                              64.2          58.0   \n",
       "2018-07-01                              66.9          57.5   \n",
       "\n",
       "           Trade, Transportation, and Utilities Financial Activities  \\\n",
       "2017-07-01                                177.7                 60.2   \n",
       "2017-10-01                                178.9                 60.7   \n",
       "2018-01-01                                183.1                 61.2   \n",
       "2018-04-01                                185.4                 61.8   \n",
       "2018-07-01                                187.6                 61.9   \n",
       "\n",
       "           Professional and Business Services Education and Health Services  \\\n",
       "2017-07-01                              176.8                         121.1   \n",
       "2017-10-01                              181.9                         120.9   \n",
       "2018-01-01                              185.0                         121.6   \n",
       "2018-04-01                              185.3                         120.7   \n",
       "2018-07-01                              186.5                         120.0   \n",
       "\n",
       "           Leisure and Hospitality Government Global price of WTI Crude  \\\n",
       "2017-07-01                   125.7      179.7                    48.163   \n",
       "2017-10-01                   129.3      177.5                    55.367   \n",
       "2018-01-01                   130.2      178.0                    62.887   \n",
       "2018-04-01                   132.9      178.2                    68.033   \n",
       "2018-07-01                   134.3      179.2                    69.757   \n",
       "\n",
       "           30Yr Fixed Mortgage Rate  \n",
       "2017-07-01                     3.88  \n",
       "2017-10-01                     3.92  \n",
       "2018-01-01                     4.28  \n",
       "2018-04-01                     4.54  \n",
       "2018-07-01                     4.57  "
      ]
     },
     "execution_count": 78,
     "metadata": {},
     "output_type": "execute_result"
    }
   ],
   "source": [
    "df = pd.DataFrame()\n",
    "for code, name in q_dict.items():\n",
    "    url = '{}{}{}{}{}{}{}'.format(base, code, s_dates,e_dates, api_key, ftype,freq)\n",
    "    r = requests.get(url).json()['observations']\n",
    "    df[name] = [i['value'] for i in r]\n",
    "df.index = pd.to_datetime([i['date'] for i in r])\n",
    "df.tail(5)"
   ]
  },
  {
   "cell_type": "code",
   "execution_count": 79,
   "metadata": {},
   "outputs": [],
   "source": [
    "# List of FRED series IDs and their description\n",
    "a_dict = {'AUST448PCPI':'Per Capita Personal Income - Austin',#2001 (annual)\n",
    "          # \n",
    "          # Population and Unemployment is annual only\n",
    "           'TXTRAV3POP':'Population in Travis County',\n",
    "           'TXCALD5POP':'Population in Caldwell County',\n",
    "           'TXHAYS9POP':'Population in Hays County',\n",
    "           'TXBAST1POP':'Population in Bastrop County',\n",
    "           'TXWILL5POP':'Population in Williamson County'\n",
    "           }\n",
    "\n",
    "# Include start date, API key from config.py file and file type json\n",
    "start_date = '2002-01-02'\n",
    "s_dates = '&observation_start={}'.format(start_date)\n",
    "end_date = '2017-01-02'\n",
    "e_dates = '&observation_end={}'.format(end_date)\n",
    "api_key = '&api_key={}'.format(config.api_key)\n",
    "ftype = '&file_type=json'\n",
    "frequency = 'a'\n",
    "freq = '&frequency={}'.format(frequency)\n",
    "#aggregation = 'eop'\n",
    "#agg = '&aggregation_method={}'.format(aggregation)"
   ]
  },
  {
   "cell_type": "code",
   "execution_count": 80,
   "metadata": {},
   "outputs": [
    {
     "data": {
      "text/html": [
       "<div>\n",
       "<style scoped>\n",
       "    .dataframe tbody tr th:only-of-type {\n",
       "        vertical-align: middle;\n",
       "    }\n",
       "\n",
       "    .dataframe tbody tr th {\n",
       "        vertical-align: top;\n",
       "    }\n",
       "\n",
       "    .dataframe thead th {\n",
       "        text-align: right;\n",
       "    }\n",
       "</style>\n",
       "<table border=\"1\" class=\"dataframe\">\n",
       "  <thead>\n",
       "    <tr style=\"text-align: right;\">\n",
       "      <th></th>\n",
       "      <th>Per Capita Personal Income - Austin</th>\n",
       "      <th>Population in Travis County</th>\n",
       "      <th>Population in Caldwell County</th>\n",
       "      <th>Population in Hays County</th>\n",
       "      <th>Population in Bastrop County</th>\n",
       "      <th>Population in Williamson County</th>\n",
       "    </tr>\n",
       "  </thead>\n",
       "  <tbody>\n",
       "    <tr>\n",
       "      <th>2002-01-01</th>\n",
       "      <td>34065</td>\n",
       "      <td>852.577</td>\n",
       "      <td>34.627</td>\n",
       "      <td>112.322</td>\n",
       "      <td>63.761</td>\n",
       "      <td>290.157</td>\n",
       "    </tr>\n",
       "    <tr>\n",
       "      <th>2003-01-01</th>\n",
       "      <td>33888</td>\n",
       "      <td>862.554</td>\n",
       "      <td>35.193</td>\n",
       "      <td>116.872</td>\n",
       "      <td>66.181</td>\n",
       "      <td>302.881</td>\n",
       "    </tr>\n",
       "    <tr>\n",
       "      <th>2004-01-01</th>\n",
       "      <td>33777</td>\n",
       "      <td>878.681</td>\n",
       "      <td>36.010</td>\n",
       "      <td>120.806</td>\n",
       "      <td>67.566</td>\n",
       "      <td>316.391</td>\n",
       "    </tr>\n",
       "    <tr>\n",
       "      <th>2005-01-01</th>\n",
       "      <td>36089</td>\n",
       "      <td>900.945</td>\n",
       "      <td>36.139</td>\n",
       "      <td>126.927</td>\n",
       "      <td>68.773</td>\n",
       "      <td>331.866</td>\n",
       "    </tr>\n",
       "    <tr>\n",
       "      <th>2006-01-01</th>\n",
       "      <td>38679</td>\n",
       "      <td>936.989</td>\n",
       "      <td>36.232</td>\n",
       "      <td>133.875</td>\n",
       "      <td>70.369</td>\n",
       "      <td>351.532</td>\n",
       "    </tr>\n",
       "  </tbody>\n",
       "</table>\n",
       "</div>"
      ],
      "text/plain": [
       "           Per Capita Personal Income - Austin Population in Travis County  \\\n",
       "2002-01-01                               34065                     852.577   \n",
       "2003-01-01                               33888                     862.554   \n",
       "2004-01-01                               33777                     878.681   \n",
       "2005-01-01                               36089                     900.945   \n",
       "2006-01-01                               38679                     936.989   \n",
       "\n",
       "           Population in Caldwell County Population in Hays County  \\\n",
       "2002-01-01                        34.627                   112.322   \n",
       "2003-01-01                        35.193                   116.872   \n",
       "2004-01-01                        36.010                   120.806   \n",
       "2005-01-01                        36.139                   126.927   \n",
       "2006-01-01                        36.232                   133.875   \n",
       "\n",
       "           Population in Bastrop County Population in Williamson County  \n",
       "2002-01-01                       63.761                         290.157  \n",
       "2003-01-01                       66.181                         302.881  \n",
       "2004-01-01                       67.566                         316.391  \n",
       "2005-01-01                       68.773                         331.866  \n",
       "2006-01-01                       70.369                         351.532  "
      ]
     },
     "execution_count": 80,
     "metadata": {},
     "output_type": "execute_result"
    }
   ],
   "source": [
    "dff = pd.DataFrame()\n",
    "for code, name in a_dict.items():\n",
    "    url = '{}{}{}{}{}{}{}'.format(base, code, s_dates,e_dates, api_key, ftype,freq)\n",
    "    r = requests.get(url).json()['observations']\n",
    "    dff[name] = [i['value'] for i in r]\n",
    "dff.index = pd.to_datetime([i['date'] for i in r])\n",
    "dff.head(5)"
   ]
  },
  {
   "cell_type": "markdown",
   "metadata": {},
   "source": [
    "### Plotting the Data\n",
    "* Use proper labeling of the plots using plot titles (including date of analysis) and axes labels.\n",
    "* Save the plotted figures as .pngs."
   ]
  },
  {
   "cell_type": "markdown",
   "metadata": {},
   "source": [
    "#### House Price Index vs. Oil Price"
   ]
  },
  {
   "cell_type": "code",
   "execution_count": 81,
   "metadata": {},
   "outputs": [],
   "source": [
    "x1_axis = df.index.values\n",
    "x2_axis =dff.index.values"
   ]
  },
  {
   "cell_type": "code",
   "execution_count": 82,
   "metadata": {},
   "outputs": [
    {
     "data": {
      "text/plain": [
       "House Price Index for Austin            float64\n",
       "Unemployment Rate in Austin             float64\n",
       "Mining, Logging, and Construction       float64\n",
       "Manufacturing                           float64\n",
       "Trade, Transportation, and Utilities    float64\n",
       "Financial Activities                    float64\n",
       "Professional and Business Services      float64\n",
       "Education and Health Services           float64\n",
       "Leisure and Hospitality                 float64\n",
       "Government                              float64\n",
       "Global price of WTI Crude               float64\n",
       "30Yr Fixed Mortgage Rate                float64\n",
       "dtype: object"
      ]
     },
     "execution_count": 82,
     "metadata": {},
     "output_type": "execute_result"
    }
   ],
   "source": [
    "df.dtypes\n",
    "cols = df.columns[df.dtypes.eq(object)]\n",
    "cols\n",
    "for c in cols:\n",
    "    df[c] = pd.to_numeric(df[c], errors='coerce')\n",
    "df.dtypes"
   ]
  },
  {
   "cell_type": "code",
   "execution_count": 83,
   "metadata": {},
   "outputs": [
    {
     "data": {
      "text/plain": [
       "Per Capita Personal Income - Austin      int64\n",
       "Population in Travis County            float64\n",
       "Population in Caldwell County          float64\n",
       "Population in Hays County              float64\n",
       "Population in Bastrop County           float64\n",
       "Population in Williamson County        float64\n",
       "dtype: object"
      ]
     },
     "execution_count": 83,
     "metadata": {},
     "output_type": "execute_result"
    }
   ],
   "source": [
    "dff.dtypes\n",
    "cols = dff.columns[dff.dtypes.eq(object)]\n",
    "cols\n",
    "for d in cols:\n",
    "    dff[d] = pd.to_numeric(dff[d], errors='coerce')\n",
    "dff.dtypes"
   ]
  },
  {
   "cell_type": "code",
   "execution_count": 84,
   "metadata": {},
   "outputs": [],
   "source": [
    "df.to_csv(output_data_file)\n",
    "dff.to_csv(output_data_file_2)"
   ]
  },
  {
   "cell_type": "code",
   "execution_count": 85,
   "metadata": {
    "scrolled": true
   },
   "outputs": [
    {
     "data": {
      "image/png": "[encoded data removed]",
      "text/plain": [
       "<Figure size 432x288 with 1 Axes>"
      ]
     },
     "metadata": {
      "needs_background": "light"
     },
     "output_type": "display_data"
    }
   ],
   "source": [
    "x1_axis = df.index.values\n",
    "\n",
    "#plt.plot(x_axis, y_axis)\n",
    "plt.plot(x1_axis, df[\"House Price Index for Austin\"],color=\"blue\", label=\"Austin\" )\n",
    "plt.plot(x1_axis, df[\"Global price of WTI Crude\"],color='black')\n",
    "\n",
    "plt.legend(loc=\"best\")\n",
    "\n",
    "plt.title(f\"House Price Index vs Oil Price\")\n",
    "plt.ylabel(\"House Price Index\")\n",
    "plt.xlabel(\"Date\")\n",
    "\n",
    "#plt.savefig(\"Latitude_v_MaxTemp.png\")\n",
    "plt.savefig(\"House price Index vs WTI Oil Price.png\")\n",
    "plt.show()"
   ]
  },
  {
   "cell_type": "code",
   "execution_count": 86,
   "metadata": {},
   "outputs": [],
   "source": [
    "df['MA'] = df.rolling(window=3)[\"Global price of WTI Crude\"].mean()\n",
    "#df.head()"
   ]
  },
  {
   "cell_type": "code",
   "execution_count": 87,
   "metadata": {},
   "outputs": [
    {
     "data": {
      "image/png": "[encoded data removed]",
      "text/plain": [
       "<Figure size 432x288 with 1 Axes>"
      ]
     },
     "metadata": {
      "needs_background": "light"
     },
     "output_type": "display_data"
    }
   ],
   "source": [
    "plt.plot(x1_axis, df[\"House Price Index for Austin\"],color=\"blue\", label=\"Austin Price Index\" )\n",
    "plt.plot(x1_axis, df[\"MA\"],color='black',label = \"Moving Average WTI Crude\")\n",
    "\n",
    "plt.legend(loc=\"best\")\n",
    "\n",
    "plt.title(f\"House Price Index vs Oil Price\")\n",
    "plt.ylabel(\"House Price Index\")\n",
    "plt.xlabel(\"Date\")\n",
    "\n",
    "plt.savefig(\"House price Index vs MA WTA Oil Price.png\")\n",
    "plt.show()\n"
   ]
  },
  {
   "cell_type": "code",
   "execution_count": 88,
   "metadata": {},
   "outputs": [
    {
     "data": {
      "image/png": "[encoded data removed]",
      "text/plain": [
       "<Figure size 432x288 with 1 Axes>"
      ]
     },
     "metadata": {
      "needs_background": "light"
     },
     "output_type": "display_data"
    }
   ],
   "source": [
    "plt.plot(x1_axis, df[\"House Price Index for Austin\"],color=\"blue\", label=\"Austin Price Index\" )\n",
    "plt.plot(x1_axis, df[\"Mining, Logging, and Construction\"],color=\"green\", label=\"Construction\" )\n",
    "plt.plot(x1_axis, df[\"Education and Health Services\"],color=\"orange\", label=\"Education-Health\" )\n",
    "plt.plot(x1_axis, df[\"Trade, Transportation, and Utilities\"],color=\"brown\", label=\"TTU\" )\n",
    "plt.plot(x1_axis, df[\"Manufacturing\"],color=\"red\", label=\"Manufacturing\" )\n",
    "plt.plot(x1_axis, df[\"Financial Activities\"],color=\"purple\", label=\"Financial Activities\" )\n",
    "plt.plot(x1_axis, df[\"Professional and Business Services\"],color=\"yellow\", label=\"Professional and Business Services\" )\n",
    "plt.plot(x1_axis, df[\"Education and Health Services\"],color=\"black\", label=\"Education and Health Services\" )\n",
    "\n",
    "plt.legend(loc=\"best\")\n",
    "\n",
    "plt.title(f\"House Price Index vs Industry Employment\")\n",
    "plt.ylabel(\"House Price Index\")\n",
    "plt.xlabel(\"Date\")\n",
    "\n",
    "plt.savefig(\"House Price Index vs Industry Employment\")\n",
    "plt.show()"
   ]
  },
  {
   "cell_type": "code",
   "execution_count": 91,
   "metadata": {},
   "outputs": [
    {
     "data": {
      "image/png": "[encoded data removed]",
      "text/plain": [
       "<Figure size 432x288 with 1 Axes>"
      ]
     },
     "metadata": {
      "needs_background": "light"
     },
     "output_type": "display_data"
    }
   ],
   "source": [
    "plt.plot(x1_axis, df[\"House Price Index for Austin\"],color=\"blue\", label=\"Austin Price Index\" )\n",
    "plt.plot(x1_axis, df[\"30Yr Fixed Mortgage Rate\"],color=\"green\", label=\"Mortgage Rate\" )\n",
    "\n",
    "plt.legend(loc=\"best\")\n",
    "\n",
    "plt.title(f\"HPI vs Mortagage\")\n",
    "plt.ylabel(\"TBD\")\n",
    "plt.xlabel(\"Date\")\n",
    "\n",
    "plt.savefig(\"HPI vs Mortagage\")\n",
    "plt.show()"
   ]
  },
  {
   "cell_type": "code",
   "execution_count": 92,
   "metadata": {},
   "outputs": [
    {
     "data": {
      "text/html": [
       "<div>\n",
       "<style scoped>\n",
       "    .dataframe tbody tr th:only-of-type {\n",
       "        vertical-align: middle;\n",
       "    }\n",
       "\n",
       "    .dataframe tbody tr th {\n",
       "        vertical-align: top;\n",
       "    }\n",
       "\n",
       "    .dataframe thead th {\n",
       "        text-align: right;\n",
       "    }\n",
       "</style>\n",
       "<table border=\"1\" class=\"dataframe\">\n",
       "  <thead>\n",
       "    <tr style=\"text-align: right;\">\n",
       "      <th></th>\n",
       "      <th>Per Capita Personal Income - Austin</th>\n",
       "      <th>Population in Travis County</th>\n",
       "      <th>Population in Caldwell County</th>\n",
       "      <th>Population in Hays County</th>\n",
       "      <th>Population in Bastrop County</th>\n",
       "      <th>Population in Williamson County</th>\n",
       "    </tr>\n",
       "  </thead>\n",
       "  <tbody>\n",
       "    <tr>\n",
       "      <th>2002-01-01</th>\n",
       "      <td>34065</td>\n",
       "      <td>852.577</td>\n",
       "      <td>34.627</td>\n",
       "      <td>112.322</td>\n",
       "      <td>63.761</td>\n",
       "      <td>290.157</td>\n",
       "    </tr>\n",
       "    <tr>\n",
       "      <th>2003-01-01</th>\n",
       "      <td>33888</td>\n",
       "      <td>862.554</td>\n",
       "      <td>35.193</td>\n",
       "      <td>116.872</td>\n",
       "      <td>66.181</td>\n",
       "      <td>302.881</td>\n",
       "    </tr>\n",
       "    <tr>\n",
       "      <th>2004-01-01</th>\n",
       "      <td>33777</td>\n",
       "      <td>878.681</td>\n",
       "      <td>36.010</td>\n",
       "      <td>120.806</td>\n",
       "      <td>67.566</td>\n",
       "      <td>316.391</td>\n",
       "    </tr>\n",
       "    <tr>\n",
       "      <th>2005-01-01</th>\n",
       "      <td>36089</td>\n",
       "      <td>900.945</td>\n",
       "      <td>36.139</td>\n",
       "      <td>126.927</td>\n",
       "      <td>68.773</td>\n",
       "      <td>331.866</td>\n",
       "    </tr>\n",
       "    <tr>\n",
       "      <th>2006-01-01</th>\n",
       "      <td>38679</td>\n",
       "      <td>936.989</td>\n",
       "      <td>36.232</td>\n",
       "      <td>133.875</td>\n",
       "      <td>70.369</td>\n",
       "      <td>351.532</td>\n",
       "    </tr>\n",
       "  </tbody>\n",
       "</table>\n",
       "</div>"
      ],
      "text/plain": [
       "            Per Capita Personal Income - Austin  Population in Travis County  \\\n",
       "2002-01-01                                34065                      852.577   \n",
       "2003-01-01                                33888                      862.554   \n",
       "2004-01-01                                33777                      878.681   \n",
       "2005-01-01                                36089                      900.945   \n",
       "2006-01-01                                38679                      936.989   \n",
       "\n",
       "            Population in Caldwell County  Population in Hays County  \\\n",
       "2002-01-01                         34.627                    112.322   \n",
       "2003-01-01                         35.193                    116.872   \n",
       "2004-01-01                         36.010                    120.806   \n",
       "2005-01-01                         36.139                    126.927   \n",
       "2006-01-01                         36.232                    133.875   \n",
       "\n",
       "            Population in Bastrop County  Population in Williamson County  \n",
       "2002-01-01                        63.761                          290.157  \n",
       "2003-01-01                        66.181                          302.881  \n",
       "2004-01-01                        67.566                          316.391  \n",
       "2005-01-01                        68.773                          331.866  \n",
       "2006-01-01                        70.369                          351.532  "
      ]
     },
     "execution_count": 92,
     "metadata": {},
     "output_type": "execute_result"
    }
   ],
   "source": [
    "dff.head()"
   ]
  },
  {
   "cell_type": "code",
   "execution_count": 93,
   "metadata": {},
   "outputs": [
    {
     "data": {
      "text/html": [
       "<div>\n",
       "<style scoped>\n",
       "    .dataframe tbody tr th:only-of-type {\n",
       "        vertical-align: middle;\n",
       "    }\n",
       "\n",
       "    .dataframe tbody tr th {\n",
       "        vertical-align: top;\n",
       "    }\n",
       "\n",
       "    .dataframe thead th {\n",
       "        text-align: right;\n",
       "    }\n",
       "</style>\n",
       "<table border=\"1\" class=\"dataframe\">\n",
       "  <thead>\n",
       "    <tr style=\"text-align: right;\">\n",
       "      <th></th>\n",
       "      <th>Per Capita Personal Income - Austin</th>\n",
       "      <th>Population in Travis County</th>\n",
       "      <th>Population in Caldwell County</th>\n",
       "      <th>Population in Hays County</th>\n",
       "      <th>Population in Bastrop County</th>\n",
       "      <th>Population in Williamson County</th>\n",
       "      <th>Austin_Population</th>\n",
       "    </tr>\n",
       "  </thead>\n",
       "  <tbody>\n",
       "    <tr>\n",
       "      <th>2013-01-01</th>\n",
       "      <td>47260</td>\n",
       "      <td>1121.960</td>\n",
       "      <td>39.205</td>\n",
       "      <td>176.019</td>\n",
       "      <td>75.896</td>\n",
       "      <td>470.448</td>\n",
       "      <td>1883.528</td>\n",
       "    </tr>\n",
       "    <tr>\n",
       "      <th>2014-01-01</th>\n",
       "      <td>50171</td>\n",
       "      <td>1151.387</td>\n",
       "      <td>39.693</td>\n",
       "      <td>184.871</td>\n",
       "      <td>77.919</td>\n",
       "      <td>488.385</td>\n",
       "      <td>1942.255</td>\n",
       "    </tr>\n",
       "    <tr>\n",
       "      <th>2015-01-01</th>\n",
       "      <td>51717</td>\n",
       "      <td>1178.292</td>\n",
       "      <td>40.377</td>\n",
       "      <td>194.497</td>\n",
       "      <td>80.198</td>\n",
       "      <td>507.420</td>\n",
       "      <td>2000.784</td>\n",
       "    </tr>\n",
       "    <tr>\n",
       "      <th>2016-01-01</th>\n",
       "      <td>52926</td>\n",
       "      <td>1204.582</td>\n",
       "      <td>41.108</td>\n",
       "      <td>204.345</td>\n",
       "      <td>82.754</td>\n",
       "      <td>527.769</td>\n",
       "      <td>2060.558</td>\n",
       "    </tr>\n",
       "    <tr>\n",
       "      <th>2017-01-01</th>\n",
       "      <td>54817</td>\n",
       "      <td>1226.698</td>\n",
       "      <td>42.338</td>\n",
       "      <td>214.485</td>\n",
       "      <td>84.761</td>\n",
       "      <td>547.545</td>\n",
       "      <td>2115.827</td>\n",
       "    </tr>\n",
       "  </tbody>\n",
       "</table>\n",
       "</div>"
      ],
      "text/plain": [
       "            Per Capita Personal Income - Austin  Population in Travis County  \\\n",
       "2013-01-01                                47260                     1121.960   \n",
       "2014-01-01                                50171                     1151.387   \n",
       "2015-01-01                                51717                     1178.292   \n",
       "2016-01-01                                52926                     1204.582   \n",
       "2017-01-01                                54817                     1226.698   \n",
       "\n",
       "            Population in Caldwell County  Population in Hays County  \\\n",
       "2013-01-01                         39.205                    176.019   \n",
       "2014-01-01                         39.693                    184.871   \n",
       "2015-01-01                         40.377                    194.497   \n",
       "2016-01-01                         41.108                    204.345   \n",
       "2017-01-01                         42.338                    214.485   \n",
       "\n",
       "            Population in Bastrop County  Population in Williamson County  \\\n",
       "2013-01-01                        75.896                          470.448   \n",
       "2014-01-01                        77.919                          488.385   \n",
       "2015-01-01                        80.198                          507.420   \n",
       "2016-01-01                        82.754                          527.769   \n",
       "2017-01-01                        84.761                          547.545   \n",
       "\n",
       "            Austin_Population  \n",
       "2013-01-01           1883.528  \n",
       "2014-01-01           1942.255  \n",
       "2015-01-01           2000.784  \n",
       "2016-01-01           2060.558  \n",
       "2017-01-01           2115.827  "
      ]
     },
     "execution_count": 93,
     "metadata": {},
     "output_type": "execute_result"
    }
   ],
   "source": [
    "dff.columns\n",
    "dff['Austin_Population']=dff['Population in Travis County']\\\n",
    "                        +dff['Population in Caldwell County']\\\n",
    "                        +dff['Population in Hays County']\\\n",
    "+dff['Population in Bastrop County']\\\n",
    "+dff['Population in Williamson County']\\\n",
    "\n",
    "dff.tail()\n"
   ]
  },
  {
   "cell_type": "code",
   "execution_count": 94,
   "metadata": {},
   "outputs": [
    {
     "data": {
      "image/png": "[encoded data removed]",
      "text/plain": [
       "<Figure size 432x288 with 1 Axes>"
      ]
     },
     "metadata": {
      "needs_background": "light"
     },
     "output_type": "display_data"
    }
   ],
   "source": [
    "x2_axis =dff.index.values\n",
    "plt.plot(x2_axis, dff[\"Austin_Population\"],color=\"red\", label=\"Austin Population\" )\n",
    "plt.plot(x1_axis, df[\"House Price Index for Austin\"].values*20,color=\"blue\", label=\"Austin Price Index\" )\n",
    "plt.legend(loc=\"best\")\n",
    "\n",
    "plt.title(f\"Austin Population\")\n",
    "plt.ylabel(\"Thousands\")\n",
    "plt.xlabel(\"Year\")\n",
    "\n",
    "plt.savefig(\"Austin Population\")\n",
    "plt.show()"
   ]
  },
  {
   "cell_type": "code",
   "execution_count": 96,
   "metadata": {},
   "outputs": [
    {
     "data": {
      "image/png": "[encoded data removed]",
      "text/plain": [
       "<Figure size 432x288 with 1 Axes>"
      ]
     },
     "metadata": {
      "needs_background": "light"
     },
     "output_type": "display_data"
    }
   ],
   "source": [
    "plt.plot(x1_axis, df[\"Unemployment Rate in Austin\"],color=\"blue\", label=\"Unemployment Rate in Austin\" )\n",
    "\n",
    "plt.legend(loc=\"best\")\n",
    "\n",
    "plt.title(f\"Unemployment Rate in Austin\")\n",
    "plt.ylabel(\"Percent\")\n",
    "plt.xlabel(\"Year\")\n",
    "\n",
    "plt.savefig(\"Unemployment Rate in Austin\")\n",
    "plt.show()"
   ]
  }
 ],
 "metadata": {
  "anaconda-cloud": {},
  "kernelspec": {
   "display_name": "Python 3",
   "language": "python",
   "name": "python3"
  },
  "language_info": {
   "codemirror_mode": {
    "name": "ipython",
    "version": 3
   },
   "file_extension": ".py",
   "mimetype": "text/x-python",
   "name": "python",
   "nbconvert_exporter": "python",
   "pygments_lexer": "ipython3",
   "version": "3.6.6"
  }
 },
 "nbformat": 4,
 "nbformat_minor": 2
}
