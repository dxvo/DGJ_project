{
 "cells": [
  {
   "cell_type": "markdown",
   "metadata": {},
   "source": [
    "# Houston - House Prices vs Oil Prices\n",
    "----\n",
    "\n",
    "### Analysis\n",
    "* This study shall focus on the correlation between fluctuations in oil and gas prices and the strength of the correlation with house prices in Houston.\n",
    "* Houston is the oil and gas capital of the USA - and it would be interesting to investigate the impact of oil prices on the local economy with respect to the housing market.\n",
    "* In addition to focussing on the city of Houston, other major cities in Texas, such as Dallas and Austin shall be used to confirm the strength of the impact emanating from the energy industry.\n",
    "* A comparison of the labor market involved in the oil/gas sector by each of the cities is a good starting point on which to base the argument.\n",
    "\n",
    "---\n",
    "\n",
    "#### Note\n",
    "* The FRED API shall be utilized for gathering the data."
   ]
  },
  {
   "cell_type": "code",
   "execution_count": 1,
   "metadata": {
    "scrolled": true
   },
   "outputs": [
    {
     "data": {
      "text/plain": [
       "'4597521cfbcf8c9643d4d2ad60fa1de3'"
      ]
     },
     "execution_count": 1,
     "metadata": {},
     "output_type": "execute_result"
    }
   ],
   "source": [
    "# Dependencies and Setup\n",
    "import matplotlib.pyplot as plt\n",
    "import pandas as pd\n",
    "import numpy as np\n",
    "import requests\n",
    "import time\n",
    "import requests\n",
    "import json\n",
    "\n",
    "# Import API key\n",
    "import config\n",
    "from config import api_key\n",
    "\n",
    "# Output File (CSV)\n",
    "output_data_file = \"output_data/house_prices.csv\"\n",
    "\n",
    "# Range of House Prices\n",
    "api_key"
   ]
  },
  {
   "cell_type": "code",
   "execution_count": 2,
   "metadata": {
    "scrolled": true
   },
   "outputs": [],
   "source": [
    "# New Dependency! Use this to pretty print the JSON\n",
    "# https://docs.python.org/3/library/pprint.html\n",
    "from pprint import pprint"
   ]
  },
  {
   "cell_type": "code",
   "execution_count": 3,
   "metadata": {},
   "outputs": [],
   "source": [
    "# The URL for the FRED API\n",
    "base = 'https://api.stlouisfed.org/fred/series/observations?series_id='\n",
    "\n",
    "# List of FRED series IDs and their description\n",
    "s_dict = {'ATNHPIUS26420Q': 'House Price Index for Houston', \n",
    "          'ATNHPIUS19124Q': 'House Price Index for Dallas',\n",
    "          'ATNHPIUS12420Q': 'House Price Index for Austin',\n",
    "          'USSTHPI': 'House Price Index for the United States',\n",
    "          'POILWTIUSDM': 'Global price of WTI Crude'\n",
    "          }\n",
    "\n",
    "#'POILWTIUSDM': 'Global price of WTI Crude'\n",
    "\n",
    "# Include start date, API key from config.py file and file type json\n",
    "start_date = '1990-01-02'\n",
    "s_dates = '&observation_start={}'.format(start_date)\n",
    "end_date = '2017-01-02'\n",
    "e_dates = '&observation_end={}'.format(end_date)\n",
    "\n",
    "api_key = '&api_key={}'.format(config.api_key)\n",
    "\n",
    "ftype = '&file_type=json'\n",
    "frequency = 'q'\n",
    "freq = '&frequency={}'.format(frequency)\n",
    "aggregation = 'eop'\n",
    "agg = '&aggregation_method={}'.format(aggregation)"
   ]
  },
  {
   "cell_type": "code",
   "execution_count": 4,
   "metadata": {},
   "outputs": [
    {
     "data": {
      "text/html": [
       "<div>\n",
       "<style scoped>\n",
       "    .dataframe tbody tr th:only-of-type {\n",
       "        vertical-align: middle;\n",
       "    }\n",
       "\n",
       "    .dataframe tbody tr th {\n",
       "        vertical-align: top;\n",
       "    }\n",
       "\n",
       "    .dataframe thead th {\n",
       "        text-align: right;\n",
       "    }\n",
       "</style>\n",
       "<table border=\"1\" class=\"dataframe\">\n",
       "  <thead>\n",
       "    <tr style=\"text-align: right;\">\n",
       "      <th></th>\n",
       "      <th>House Price Index for Houston</th>\n",
       "      <th>House Price Index for Dallas</th>\n",
       "      <th>House Price Index for Austin</th>\n",
       "      <th>House Price Index for the United States</th>\n",
       "      <th>Global price of WTI Crude</th>\n",
       "    </tr>\n",
       "  </thead>\n",
       "  <tbody>\n",
       "    <tr>\n",
       "      <th>1990-01-01</th>\n",
       "      <td>91.49</td>\n",
       "      <td>94.53</td>\n",
       "      <td>72.82</td>\n",
       "      <td>164.17</td>\n",
       "      <td>20.4100000000000</td>\n",
       "    </tr>\n",
       "    <tr>\n",
       "      <th>1990-04-01</th>\n",
       "      <td>92.52</td>\n",
       "      <td>95.07</td>\n",
       "      <td>73.07</td>\n",
       "      <td>164.85</td>\n",
       "      <td>16.6900000000000</td>\n",
       "    </tr>\n",
       "    <tr>\n",
       "      <th>1990-07-01</th>\n",
       "      <td>93.75</td>\n",
       "      <td>95.30</td>\n",
       "      <td>72.33</td>\n",
       "      <td>165.84</td>\n",
       "      <td>33.8000000000000</td>\n",
       "    </tr>\n",
       "    <tr>\n",
       "      <th>1990-10-01</th>\n",
       "      <td>93.56</td>\n",
       "      <td>94.55</td>\n",
       "      <td>72.92</td>\n",
       "      <td>165.2</td>\n",
       "      <td>27.3300000000000</td>\n",
       "    </tr>\n",
       "    <tr>\n",
       "      <th>1991-01-01</th>\n",
       "      <td>94.46</td>\n",
       "      <td>95.79</td>\n",
       "      <td>75.06</td>\n",
       "      <td>166.56</td>\n",
       "      <td>19.8700000000000</td>\n",
       "    </tr>\n",
       "  </tbody>\n",
       "</table>\n",
       "</div>"
      ],
      "text/plain": [
       "           House Price Index for Houston House Price Index for Dallas  \\\n",
       "1990-01-01                         91.49                        94.53   \n",
       "1990-04-01                         92.52                        95.07   \n",
       "1990-07-01                         93.75                        95.30   \n",
       "1990-10-01                         93.56                        94.55   \n",
       "1991-01-01                         94.46                        95.79   \n",
       "\n",
       "           House Price Index for Austin  \\\n",
       "1990-01-01                        72.82   \n",
       "1990-04-01                        73.07   \n",
       "1990-07-01                        72.33   \n",
       "1990-10-01                        72.92   \n",
       "1991-01-01                        75.06   \n",
       "\n",
       "           House Price Index for the United States Global price of WTI Crude  \n",
       "1990-01-01                                  164.17          20.4100000000000  \n",
       "1990-04-01                                  164.85          16.6900000000000  \n",
       "1990-07-01                                  165.84          33.8000000000000  \n",
       "1990-10-01                                   165.2          27.3300000000000  \n",
       "1991-01-01                                  166.56          19.8700000000000  "
      ]
     },
     "execution_count": 4,
     "metadata": {},
     "output_type": "execute_result"
    }
   ],
   "source": [
    "df = pd.DataFrame()\n",
    "for code, name in s_dict.items():\n",
    "    url = '{}{}{}{}{}{}{}{}'.format(base, code, s_dates,e_dates, api_key, ftype,freq,agg)\n",
    "    r = requests.get(url).json()['observations']\n",
    "    df[name] = [i['value'] for i in r]\n",
    "df.index = pd.to_datetime([i['date'] for i in r])\n",
    "df.head(5)\n",
    "#df.describe\n",
    "#r"
   ]
  },
  {
   "cell_type": "markdown",
   "metadata": {},
   "source": [
    "### Plotting the Data\n",
    "* Use proper labeling of the plots using plot titles (including date of analysis) and axes labels.\n",
    "* Save the plotted figures as .pngs."
   ]
  },
  {
   "cell_type": "markdown",
   "metadata": {},
   "source": [
    "#### House Price Index vs. Oil Price"
   ]
  },
  {
   "cell_type": "code",
   "execution_count": 5,
   "metadata": {},
   "outputs": [],
   "source": [
    "x_axis = df.index.values"
   ]
  },
  {
   "cell_type": "code",
   "execution_count": 6,
   "metadata": {},
   "outputs": [
    {
     "data": {
      "text/plain": [
       "House Price Index for Houston              object\n",
       "House Price Index for Dallas               object\n",
       "House Price Index for Austin               object\n",
       "House Price Index for the United States    object\n",
       "Global price of WTI Crude                  object\n",
       "dtype: object"
      ]
     },
     "execution_count": 6,
     "metadata": {},
     "output_type": "execute_result"
    }
   ],
   "source": [
    "df.dtypes"
   ]
  },
  {
   "cell_type": "code",
   "execution_count": 7,
   "metadata": {},
   "outputs": [
    {
     "data": {
      "text/plain": [
       "Index(['House Price Index for Houston', 'House Price Index for Dallas',\n",
       "       'House Price Index for Austin',\n",
       "       'House Price Index for the United States', 'Global price of WTI Crude'],\n",
       "      dtype='object')"
      ]
     },
     "execution_count": 7,
     "metadata": {},
     "output_type": "execute_result"
    }
   ],
   "source": [
    "cols = df.columns[df.dtypes.eq(object)]\n",
    "cols"
   ]
  },
  {
   "cell_type": "code",
   "execution_count": 8,
   "metadata": {},
   "outputs": [
    {
     "data": {
      "text/plain": [
       "House Price Index for Houston              float64\n",
       "House Price Index for Dallas               float64\n",
       "House Price Index for Austin               float64\n",
       "House Price Index for the United States    float64\n",
       "Global price of WTI Crude                  float64\n",
       "dtype: object"
      ]
     },
     "execution_count": 8,
     "metadata": {},
     "output_type": "execute_result"
    }
   ],
   "source": [
    "for c in cols:\n",
    "    df[c] = pd.to_numeric(df[c], errors='coerce')\n",
    "df.dtypes"
   ]
  },
  {
   "cell_type": "code",
   "execution_count": 9,
   "metadata": {},
   "outputs": [],
   "source": [
    "df.to_csv(output_data_file)"
   ]
  },
  {
   "cell_type": "code",
   "execution_count": 25,
   "metadata": {
    "scrolled": true
   },
   "outputs": [
    {
     "data": {
      "image/png": "[encoded data removed]",
      "text/plain": [
       "<Figure size 432x288 with 1 Axes>"
      ]
     },
     "metadata": {
      "needs_background": "light"
     },
     "output_type": "display_data"
    }
   ],
   "source": [
    "#from datetime import date\n",
    "#today = str(date.today())\n",
    "\n",
    "x_axis = df.index.values\n",
    "\n",
    "#plt.plot(x_axis, y_axis)\n",
    "plt.plot(x_axis, df[\"House Price Index for Houston\"],color=\"blue\", label=\"Houston\" )\n",
    "plt.plot(x_axis, df[\"House Price Index for Dallas\"],color=\"red\", label=\"Dallas\" )\n",
    "plt.plot(x_axis, df[\"House Price Index for Austin\"],color=\"green\", label=\"Austin\" )\n",
    "plt.plot(x_axis, df[\"Global price of WTI Crude\"],color='black')\n",
    "\n",
    "plt.legend(loc=\"best\")\n",
    "\n",
    "plt.title(f\"House Price Index vs Oil Price\")\n",
    "plt.ylabel(\"House Price Index\")\n",
    "plt.xlabel(\"Date\")\n",
    "\n",
    "#plt.savefig(\"Latitude_v_MaxTemp.png\")\n",
    "plt.savefig(\"House price Index vs WTI Oil Price.png\")\n",
    "plt.show()"
   ]
  },
  {
   "cell_type": "code",
   "execution_count": 27,
   "metadata": {},
   "outputs": [
    {
     "data": {
      "text/html": [
       "<div>\n",
       "<style scoped>\n",
       "    .dataframe tbody tr th:only-of-type {\n",
       "        vertical-align: middle;\n",
       "    }\n",
       "\n",
       "    .dataframe tbody tr th {\n",
       "        vertical-align: top;\n",
       "    }\n",
       "\n",
       "    .dataframe thead th {\n",
       "        text-align: right;\n",
       "    }\n",
       "</style>\n",
       "<table border=\"1\" class=\"dataframe\">\n",
       "  <thead>\n",
       "    <tr style=\"text-align: right;\">\n",
       "      <th></th>\n",
       "      <th>House Price Index for Houston</th>\n",
       "      <th>House Price Index for Dallas</th>\n",
       "      <th>House Price Index for Austin</th>\n",
       "      <th>House Price Index for the United States</th>\n",
       "      <th>Global price of WTI Crude</th>\n",
       "      <th>MA</th>\n",
       "    </tr>\n",
       "  </thead>\n",
       "  <tbody>\n",
       "    <tr>\n",
       "      <th>1990-01-01</th>\n",
       "      <td>91.49</td>\n",
       "      <td>94.53</td>\n",
       "      <td>72.82</td>\n",
       "      <td>164.17</td>\n",
       "      <td>20.41</td>\n",
       "      <td>NaN</td>\n",
       "    </tr>\n",
       "    <tr>\n",
       "      <th>1990-04-01</th>\n",
       "      <td>92.52</td>\n",
       "      <td>95.07</td>\n",
       "      <td>73.07</td>\n",
       "      <td>164.85</td>\n",
       "      <td>16.69</td>\n",
       "      <td>NaN</td>\n",
       "    </tr>\n",
       "    <tr>\n",
       "      <th>1990-07-01</th>\n",
       "      <td>93.75</td>\n",
       "      <td>95.30</td>\n",
       "      <td>72.33</td>\n",
       "      <td>165.84</td>\n",
       "      <td>33.80</td>\n",
       "      <td>NaN</td>\n",
       "    </tr>\n",
       "    <tr>\n",
       "      <th>1990-10-01</th>\n",
       "      <td>93.56</td>\n",
       "      <td>94.55</td>\n",
       "      <td>72.92</td>\n",
       "      <td>165.20</td>\n",
       "      <td>27.33</td>\n",
       "      <td>NaN</td>\n",
       "    </tr>\n",
       "    <tr>\n",
       "      <th>1991-01-01</th>\n",
       "      <td>94.46</td>\n",
       "      <td>95.79</td>\n",
       "      <td>75.06</td>\n",
       "      <td>166.56</td>\n",
       "      <td>19.87</td>\n",
       "      <td>NaN</td>\n",
       "    </tr>\n",
       "  </tbody>\n",
       "</table>\n",
       "</div>"
      ],
      "text/plain": [
       "            House Price Index for Houston  House Price Index for Dallas  \\\n",
       "1990-01-01                          91.49                         94.53   \n",
       "1990-04-01                          92.52                         95.07   \n",
       "1990-07-01                          93.75                         95.30   \n",
       "1990-10-01                          93.56                         94.55   \n",
       "1991-01-01                          94.46                         95.79   \n",
       "\n",
       "            House Price Index for Austin  \\\n",
       "1990-01-01                         72.82   \n",
       "1990-04-01                         73.07   \n",
       "1990-07-01                         72.33   \n",
       "1990-10-01                         72.92   \n",
       "1991-01-01                         75.06   \n",
       "\n",
       "            House Price Index for the United States  \\\n",
       "1990-01-01                                   164.17   \n",
       "1990-04-01                                   164.85   \n",
       "1990-07-01                                   165.84   \n",
       "1990-10-01                                   165.20   \n",
       "1991-01-01                                   166.56   \n",
       "\n",
       "            Global price of WTI Crude  MA  \n",
       "1990-01-01                      20.41 NaN  \n",
       "1990-04-01                      16.69 NaN  \n",
       "1990-07-01                      33.80 NaN  \n",
       "1990-10-01                      27.33 NaN  \n",
       "1991-01-01                      19.87 NaN  "
      ]
     },
     "execution_count": 27,
     "metadata": {},
     "output_type": "execute_result"
    }
   ],
   "source": [
    "df['MA'] = df.rolling(window=8)[\"Global price of WTI Crude\"].mean()\n",
    "df.head()"
   ]
  },
  {
   "cell_type": "code",
   "execution_count": 28,
   "metadata": {},
   "outputs": [
    {
     "data": {
      "image/png": "[encoded data removed]",
      "text/plain": [
       "<Figure size 432x288 with 1 Axes>"
      ]
     },
     "metadata": {
      "needs_background": "light"
     },
     "output_type": "display_data"
    }
   ],
   "source": [
    "plt.plot(x_axis, df[\"House Price Index for Houston\"],color=\"blue\", label=\"Houston\" )\n",
    "plt.plot(x_axis, df[\"House Price Index for Dallas\"],color=\"red\", label=\"Dallas\" )\n",
    "plt.plot(x_axis, df[\"House Price Index for Austin\"],color=\"green\", label=\"Austin\" )\n",
    "plt.plot(x_axis, df[\"MA\"],color='black',label = \"Moving Average WTI Crude\")\n",
    "\n",
    "plt.legend(loc=\"best\")\n",
    "\n",
    "plt.title(f\"House Price Index vs Oil Price\")\n",
    "plt.ylabel(\"House Price Index\")\n",
    "plt.xlabel(\"Date\")\n",
    "\n",
    "plt.savefig(\"House price Index vs MA WTA Oil Price.png\")\n",
    "plt.show()\n"
   ]
  }
 ],
 "metadata": {
  "anaconda-cloud": {},
  "kernelspec": {
   "display_name": "Python 3",
   "language": "python",
   "name": "python3"
  },
  "language_info": {
   "codemirror_mode": {
    "name": "ipython",
    "version": 3
   },
   "file_extension": ".py",
   "mimetype": "text/x-python",
   "name": "python",
   "nbconvert_exporter": "python",
   "pygments_lexer": "ipython3",
   "version": "3.6.6"
  }
 },
 "nbformat": 4,
 "nbformat_minor": 2
}
