{
 "cells": [
  {
   "cell_type": "markdown",
   "metadata": {},
   "source": [
    "## Houston - House Price Index vs Energy Industry\n",
    "----\n",
    "\n",
    "### Analysis\n",
    "* This study shall focus on the correlation between fluctuations in oil and gas prices and the strength of the correlation with house prices in Houston.\n",
    "* Houston is the oil and gas capital of the USA - and it would be interesting to investigate the impact of oil prices on the local economy with respect to the housing market.\n",
    "* In addition to focussing on the city of Houston, other major cities in Texas, such as Dallas and Austin shall be used to confirm the strength of the impact emanating from the energy industry.\n",
    "* A comparison of the labor market involved in the oil/gas sector by each of the cities is a good starting point on which to base the argument.\n",
    "\n",
    "---\n",
    "\n",
    "#### Note\n",
    "* The FRED API shall be utilized for gathering the data."
   ]
  },
  {
   "cell_type": "code",
   "execution_count": 1,
   "metadata": {
    "scrolled": true
   },
   "outputs": [],
   "source": [
    "# Dependencies and Setup\n",
    "import matplotlib.pyplot as plt\n",
    "import pandas as pd\n",
    "import numpy as np\n",
    "import requests\n",
    "import time\n",
    "import requests\n",
    "import json\n",
    "\n",
    "# Import API key\n",
    "import config\n",
    "from config import api_key\n",
    "\n",
    "# Output File (CSV)\n",
    "output_data_file = \"output_data/quarter_data.csv\"\n",
    "output_data_file_2 = \"output_data/annual_data.csv\""
   ]
  },
  {
   "cell_type": "code",
   "execution_count": 2,
   "metadata": {
    "scrolled": true
   },
   "outputs": [],
   "source": [
    "# New Dependency! Use this to pretty print the JSON\n",
    "# https://docs.python.org/3/library/pprint.html\n",
    "from pprint import pprint"
   ]
  },
  {
   "cell_type": "code",
   "execution_count": 3,
   "metadata": {},
   "outputs": [],
   "source": [
    "# The URL for the FRED API\n",
    "base = 'https://api.stlouisfed.org/fred/series/observations?series_id='\n",
    "\n",
    "# List of FRED series IDs and their description\n",
    "q_dict = {'ATNHPIUS26420Q': 'House Price Index for Houston',\n",
    "          'HOUS448UR':'Unemployment Rate in Houston',\n",
    "          #Thousands of Persons (monthly), \n",
    "           'SMU48264201000000001SA': 'Mining and Logging',\n",
    "           'HOUS448MFG': 'Manufacturing',\n",
    "           'HOUS448TRAD': 'Trade, Transportation, and Utilities',\n",
    "           'HOUS448FIRE': 'Financial Activities',\n",
    "           'HOUS448PBSV': 'Professional and Business Services',\n",
    "           'HOUS448EDUH': 'Education and Health Services',          \n",
    "           'HOUS448LEIH': 'Leisure and Hospitality',\n",
    "           'HOUS448GOVT': 'Government',\n",
    "           'SMU48264201021100001SA':'Oil and Gas Extraction',\n",
    "           'SMU48264202000000001SA':'Construction in Houston',\n",
    "           #Dollars (monthly)\n",
    "           'WTISPLC': 'Global price of WTI Crude',\n",
    "           #Percent (monthly)\n",
    "           'MORTGAGE30US': '30Yr Fixed Mortgage Rate',\n",
    "           #CPI (monthly)\n",
    "           'CUURA318SA0':'CPI for Houston'\n",
    "          }\n",
    "\n",
    "# Include start date, API key from config.py file and file type json\n",
    "start_date = '1990-01-01'\n",
    "s_dates = '&observation_start={}'.format(start_date)\n",
    "end_date = '2017-01-01'\n",
    "e_dates = '&observation_end={}'.format(end_date)\n",
    "\n",
    "api_key = '&api_key={}'.format(config.api_key)\n",
    "\n",
    "ftype = '&file_type=json'\n",
    "frequency = 'a'\n",
    "freq = '&frequency={}'.format(frequency)\n",
    "#aggregation = 'eop'\n",
    "#agg = '&aggregation_method={}'.format(aggregation)"
   ]
  },
  {
   "cell_type": "code",
   "execution_count": 4,
   "metadata": {},
   "outputs": [
    {
     "data": {
      "text/plain": [
       "28"
      ]
     },
     "execution_count": 4,
     "metadata": {},
     "output_type": "execute_result"
    }
   ],
   "source": [
    "df = pd.DataFrame()\n",
    "for code, name in q_dict.items():\n",
    "    url = '{}{}{}{}{}{}{}'.format(base, code, s_dates,e_dates, api_key, ftype,freq)\n",
    "    r = requests.get(url).json()['observations']\n",
    "    df[name] = [i['value'] for i in r]\n",
    "df.index = pd.to_datetime([i['date'] for i in r])\n",
    "df.head()\n",
    "df.to_csv('output_data/general.csv')\n",
    "len(df)"
   ]
  },
  {
   "cell_type": "code",
   "execution_count": 5,
   "metadata": {},
   "outputs": [],
   "source": [
    "# List of FRED series IDs and their description\n",
    "a_dict = {#'HOUS448PCPI':'Per Capita Personal Income - Houston',#2001 (annual)\n",
    "          # \n",
    "          # Population and Unemployment is annual only\n",
    "           'TXHARR1POP':'Population in Harris County',\n",
    "           'TXFORT5POP':'Population in Fort Bend County',\n",
    "           'TXMONT0POP':'Population in Montgomery County',\n",
    "           'TXGALV7POP':'Population in Galveston County',\n",
    "           'TXBRAZ0POP':'Population in Brazoria County',\n",
    "           'TXLIBE1POP':'Population in Liberty County',\n",
    "           'TXWALL3POP':'Population in Waller County',\n",
    "           'TXCHAM1POP':'Population in Chambers County',\n",
    "           'TXAUST5POP':'Population in Austin County'\n",
    "           }\n",
    "\n",
    "# Include start date, API key from config.py file and file type json\n",
    "start_date = '1990-01-01'\n",
    "s_dates = '&observation_start={}'.format(start_date)\n",
    "end_date = '2017-01-01'\n",
    "e_dates = '&observation_end={}'.format(end_date)\n",
    "api_key = '&api_key={}'.format(config.api_key)\n",
    "ftype = '&file_type=json'\n",
    "frequency = 'a'\n",
    "freq = '&frequency={}'.format(frequency)\n",
    "#aggregation = 'eop'\n",
    "#agg = '&aggregation_method={}'.format(aggregation)"
   ]
  },
  {
   "cell_type": "code",
   "execution_count": 6,
   "metadata": {},
   "outputs": [
    {
     "data": {
      "text/plain": [
       "28"
      ]
     },
     "execution_count": 6,
     "metadata": {},
     "output_type": "execute_result"
    }
   ],
   "source": [
    "dff = pd.DataFrame()\n",
    "for code, name in a_dict.items():\n",
    "    url = '{}{}{}{}{}{}{}'.format(base, code, s_dates,e_dates, api_key, ftype,freq)\n",
    "    r = requests.get(url).json()['observations']\n",
    "    dff[name] = [i['value'] for i in r]\n",
    "dff.index = pd.to_datetime([i['date'] for i in r])\n",
    "dff.to_csv('output_data/population.csv')\n",
    "dff.head()\n",
    "len(dff)"
   ]
  },
  {
   "cell_type": "markdown",
   "metadata": {},
   "source": [
    "### Plotting the Data\n",
    "* Use proper labeling of the plots using plot titles (including date of analysis) and axes labels.\n",
    "* Save the plotted figures as .pngs."
   ]
  },
  {
   "cell_type": "markdown",
   "metadata": {},
   "source": [
    "#### House Price Index vs. Oil Price"
   ]
  },
  {
   "cell_type": "code",
   "execution_count": 7,
   "metadata": {},
   "outputs": [],
   "source": [
    "x1_axis = df.index.values\n",
    "x2_axis =dff.index.values"
   ]
  },
  {
   "cell_type": "code",
   "execution_count": 8,
   "metadata": {},
   "outputs": [
    {
     "data": {
      "text/plain": [
       "House Price Index for Houston           float64\n",
       "Unemployment Rate in Houston            float64\n",
       "Mining and Logging                      float64\n",
       "Manufacturing                           float64\n",
       "Trade, Transportation, and Utilities    float64\n",
       "Financial Activities                    float64\n",
       "Professional and Business Services      float64\n",
       "Education and Health Services           float64\n",
       "Leisure and Hospitality                 float64\n",
       "Government                              float64\n",
       "Oil and Gas Extraction                  float64\n",
       "Construction in Houston                 float64\n",
       "Global price of WTI Crude               float64\n",
       "30Yr Fixed Mortgage Rate                float64\n",
       "CPI for Houston                         float64\n",
       "dtype: object"
      ]
     },
     "execution_count": 8,
     "metadata": {},
     "output_type": "execute_result"
    }
   ],
   "source": [
    "df.dtypes\n",
    "cols = df.columns[df.dtypes.eq(object)]\n",
    "cols\n",
    "for c in cols:\n",
    "    df[c] = pd.to_numeric(df[c], errors='coerce')\n",
    "df.dtypes"
   ]
  },
  {
   "cell_type": "code",
   "execution_count": 9,
   "metadata": {},
   "outputs": [
    {
     "data": {
      "text/plain": [
       "Population in Harris County        float64\n",
       "Population in Fort Bend County     float64\n",
       "Population in Montgomery County    float64\n",
       "Population in Galveston County     float64\n",
       "Population in Brazoria County      float64\n",
       "Population in Liberty County       float64\n",
       "Population in Waller County        float64\n",
       "Population in Chambers County      float64\n",
       "Population in Austin County        float64\n",
       "dtype: object"
      ]
     },
     "execution_count": 9,
     "metadata": {},
     "output_type": "execute_result"
    }
   ],
   "source": [
    "dff.dtypes\n",
    "cols = dff.columns[dff.dtypes.eq(object)]\n",
    "cols\n",
    "for d in cols:\n",
    "    dff[d] = pd.to_numeric(dff[d], errors='coerce')\n",
    "dff.dtypes"
   ]
  },
  {
   "cell_type": "code",
   "execution_count": 10,
   "metadata": {},
   "outputs": [],
   "source": [
    "df.to_csv(output_data_file)\n",
    "dff.to_csv(output_data_file_2)"
   ]
  },
  {
   "cell_type": "code",
   "execution_count": 11,
   "metadata": {
    "scrolled": true
   },
   "outputs": [
    {
     "data": {
      "image/png": "[encoded data removed]",
      "text/plain": [
       "<Figure size 432x288 with 1 Axes>"
      ]
     },
     "metadata": {
      "needs_background": "light"
     },
     "output_type": "display_data"
    }
   ],
   "source": [
    "x1_axis = df.index.values\n",
    "\n",
    "#plt.plot(x_axis, y_axis)\n",
    "plt.plot(x1_axis, df[\"House Price Index for Houston\"],color=\"blue\", label=\"Houston\" )\n",
    "plt.plot(x1_axis, df[\"Global price of WTI Crude\"],color='black')\n",
    "\n",
    "plt.legend(loc=\"best\")\n",
    "\n",
    "plt.title(f\"House Price Index vs Oil Price\")\n",
    "plt.ylabel(\"House Price Index\")\n",
    "plt.xlabel(\"Date\")\n",
    "\n",
    "#plt.savefig(\"Latitude_v_MaxTemp.png\")\n",
    "plt.savefig(\"output_plot/House price Index vs WTI Oil Price.png\")\n",
    "plt.show()"
   ]
  },
  {
   "cell_type": "code",
   "execution_count": 12,
   "metadata": {},
   "outputs": [],
   "source": [
    "#df['MA'] = df.rolling(window=3)[\"Global price of WTI Crude\"].mean()\n",
    "#df.head()"
   ]
  },
  {
   "cell_type": "code",
   "execution_count": 13,
   "metadata": {},
   "outputs": [
    {
     "ename": "KeyError",
     "evalue": "'MA'",
     "output_type": "error",
     "traceback": [
      "\u001b[0;31m---------------------------------------------------------------------------\u001b[0m",
      "\u001b[0;31mKeyError\u001b[0m                                  Traceback (most recent call last)",
      "\u001b[0;32m/anaconda3/lib/python3.6/site-packages/pandas/core/indexes/base.py\u001b[0m in \u001b[0;36mget_loc\u001b[0;34m(self, key, method, tolerance)\u001b[0m\n\u001b[1;32m   3077\u001b[0m             \u001b[0;32mtry\u001b[0m\u001b[0;34m:\u001b[0m\u001b[0;34m\u001b[0m\u001b[0m\n\u001b[0;32m-> 3078\u001b[0;31m                 \u001b[0;32mreturn\u001b[0m \u001b[0mself\u001b[0m\u001b[0;34m.\u001b[0m\u001b[0m_engine\u001b[0m\u001b[0;34m.\u001b[0m\u001b[0mget_loc\u001b[0m\u001b[0;34m(\u001b[0m\u001b[0mkey\u001b[0m\u001b[0;34m)\u001b[0m\u001b[0;34m\u001b[0m\u001b[0m\n\u001b[0m\u001b[1;32m   3079\u001b[0m             \u001b[0;32mexcept\u001b[0m \u001b[0mKeyError\u001b[0m\u001b[0;34m:\u001b[0m\u001b[0;34m\u001b[0m\u001b[0m\n",
      "\u001b[0;32mpandas/_libs/index.pyx\u001b[0m in \u001b[0;36mpandas._libs.index.IndexEngine.get_loc\u001b[0;34m()\u001b[0m\n",
      "\u001b[0;32mpandas/_libs/index.pyx\u001b[0m in \u001b[0;36mpandas._libs.index.IndexEngine.get_loc\u001b[0;34m()\u001b[0m\n",
      "\u001b[0;32mpandas/_libs/hashtable_class_helper.pxi\u001b[0m in \u001b[0;36mpandas._libs.hashtable.PyObjectHashTable.get_item\u001b[0;34m()\u001b[0m\n",
      "\u001b[0;32mpandas/_libs/hashtable_class_helper.pxi\u001b[0m in \u001b[0;36mpandas._libs.hashtable.PyObjectHashTable.get_item\u001b[0;34m()\u001b[0m\n",
      "\u001b[0;31mKeyError\u001b[0m: 'MA'",
      "\nDuring handling of the above exception, another exception occurred:\n",
      "\u001b[0;31mKeyError\u001b[0m                                  Traceback (most recent call last)",
      "\u001b[0;32m<ipython-input-13-eed0d9deb073>\u001b[0m in \u001b[0;36m<module>\u001b[0;34m\u001b[0m\n\u001b[1;32m      1\u001b[0m \u001b[0mplt\u001b[0m\u001b[0;34m.\u001b[0m\u001b[0mplot\u001b[0m\u001b[0;34m(\u001b[0m\u001b[0mx1_axis\u001b[0m\u001b[0;34m,\u001b[0m \u001b[0mdf\u001b[0m\u001b[0;34m[\u001b[0m\u001b[0;34m\"House Price Index for Houston\"\u001b[0m\u001b[0;34m]\u001b[0m\u001b[0;34m,\u001b[0m\u001b[0mcolor\u001b[0m\u001b[0;34m=\u001b[0m\u001b[0;34m\"blue\"\u001b[0m\u001b[0;34m,\u001b[0m \u001b[0mlabel\u001b[0m\u001b[0;34m=\u001b[0m\u001b[0;34m\"Houston Price Index\"\u001b[0m \u001b[0;34m)\u001b[0m\u001b[0;34m\u001b[0m\u001b[0m\n\u001b[0;32m----> 2\u001b[0;31m \u001b[0mplt\u001b[0m\u001b[0;34m.\u001b[0m\u001b[0mplot\u001b[0m\u001b[0;34m(\u001b[0m\u001b[0mx1_axis\u001b[0m\u001b[0;34m,\u001b[0m \u001b[0mdf\u001b[0m\u001b[0;34m[\u001b[0m\u001b[0;34m\"MA\"\u001b[0m\u001b[0;34m]\u001b[0m\u001b[0;34m,\u001b[0m\u001b[0mcolor\u001b[0m\u001b[0;34m=\u001b[0m\u001b[0;34m'black'\u001b[0m\u001b[0;34m,\u001b[0m\u001b[0mlabel\u001b[0m \u001b[0;34m=\u001b[0m \u001b[0;34m\"Moving Average WTI Crude\"\u001b[0m\u001b[0;34m)\u001b[0m\u001b[0;34m\u001b[0m\u001b[0m\n\u001b[0m\u001b[1;32m      3\u001b[0m \u001b[0;34m\u001b[0m\u001b[0m\n\u001b[1;32m      4\u001b[0m \u001b[0mplt\u001b[0m\u001b[0;34m.\u001b[0m\u001b[0mlegend\u001b[0m\u001b[0;34m(\u001b[0m\u001b[0mloc\u001b[0m\u001b[0;34m=\u001b[0m\u001b[0;34m\"best\"\u001b[0m\u001b[0;34m)\u001b[0m\u001b[0;34m\u001b[0m\u001b[0m\n\u001b[1;32m      5\u001b[0m \u001b[0;34m\u001b[0m\u001b[0m\n",
      "\u001b[0;32m/anaconda3/lib/python3.6/site-packages/pandas/core/frame.py\u001b[0m in \u001b[0;36m__getitem__\u001b[0;34m(self, key)\u001b[0m\n\u001b[1;32m   2686\u001b[0m             \u001b[0;32mreturn\u001b[0m \u001b[0mself\u001b[0m\u001b[0;34m.\u001b[0m\u001b[0m_getitem_multilevel\u001b[0m\u001b[0;34m(\u001b[0m\u001b[0mkey\u001b[0m\u001b[0;34m)\u001b[0m\u001b[0;34m\u001b[0m\u001b[0m\n\u001b[1;32m   2687\u001b[0m         \u001b[0;32melse\u001b[0m\u001b[0;34m:\u001b[0m\u001b[0;34m\u001b[0m\u001b[0m\n\u001b[0;32m-> 2688\u001b[0;31m             \u001b[0;32mreturn\u001b[0m \u001b[0mself\u001b[0m\u001b[0;34m.\u001b[0m\u001b[0m_getitem_column\u001b[0m\u001b[0;34m(\u001b[0m\u001b[0mkey\u001b[0m\u001b[0;34m)\u001b[0m\u001b[0;34m\u001b[0m\u001b[0m\n\u001b[0m\u001b[1;32m   2689\u001b[0m \u001b[0;34m\u001b[0m\u001b[0m\n\u001b[1;32m   2690\u001b[0m     \u001b[0;32mdef\u001b[0m \u001b[0m_getitem_column\u001b[0m\u001b[0;34m(\u001b[0m\u001b[0mself\u001b[0m\u001b[0;34m,\u001b[0m \u001b[0mkey\u001b[0m\u001b[0;34m)\u001b[0m\u001b[0;34m:\u001b[0m\u001b[0;34m\u001b[0m\u001b[0m\n",
      "\u001b[0;32m/anaconda3/lib/python3.6/site-packages/pandas/core/frame.py\u001b[0m in \u001b[0;36m_getitem_column\u001b[0;34m(self, key)\u001b[0m\n\u001b[1;32m   2693\u001b[0m         \u001b[0;31m# get column\u001b[0m\u001b[0;34m\u001b[0m\u001b[0;34m\u001b[0m\u001b[0m\n\u001b[1;32m   2694\u001b[0m         \u001b[0;32mif\u001b[0m \u001b[0mself\u001b[0m\u001b[0;34m.\u001b[0m\u001b[0mcolumns\u001b[0m\u001b[0;34m.\u001b[0m\u001b[0mis_unique\u001b[0m\u001b[0;34m:\u001b[0m\u001b[0;34m\u001b[0m\u001b[0m\n\u001b[0;32m-> 2695\u001b[0;31m             \u001b[0;32mreturn\u001b[0m \u001b[0mself\u001b[0m\u001b[0;34m.\u001b[0m\u001b[0m_get_item_cache\u001b[0m\u001b[0;34m(\u001b[0m\u001b[0mkey\u001b[0m\u001b[0;34m)\u001b[0m\u001b[0;34m\u001b[0m\u001b[0m\n\u001b[0m\u001b[1;32m   2696\u001b[0m \u001b[0;34m\u001b[0m\u001b[0m\n\u001b[1;32m   2697\u001b[0m         \u001b[0;31m# duplicate columns & possible reduce dimensionality\u001b[0m\u001b[0;34m\u001b[0m\u001b[0;34m\u001b[0m\u001b[0m\n",
      "\u001b[0;32m/anaconda3/lib/python3.6/site-packages/pandas/core/generic.py\u001b[0m in \u001b[0;36m_get_item_cache\u001b[0;34m(self, item)\u001b[0m\n\u001b[1;32m   2487\u001b[0m         \u001b[0mres\u001b[0m \u001b[0;34m=\u001b[0m \u001b[0mcache\u001b[0m\u001b[0;34m.\u001b[0m\u001b[0mget\u001b[0m\u001b[0;34m(\u001b[0m\u001b[0mitem\u001b[0m\u001b[0;34m)\u001b[0m\u001b[0;34m\u001b[0m\u001b[0m\n\u001b[1;32m   2488\u001b[0m         \u001b[0;32mif\u001b[0m \u001b[0mres\u001b[0m \u001b[0;32mis\u001b[0m \u001b[0;32mNone\u001b[0m\u001b[0;34m:\u001b[0m\u001b[0;34m\u001b[0m\u001b[0m\n\u001b[0;32m-> 2489\u001b[0;31m             \u001b[0mvalues\u001b[0m \u001b[0;34m=\u001b[0m \u001b[0mself\u001b[0m\u001b[0;34m.\u001b[0m\u001b[0m_data\u001b[0m\u001b[0;34m.\u001b[0m\u001b[0mget\u001b[0m\u001b[0;34m(\u001b[0m\u001b[0mitem\u001b[0m\u001b[0;34m)\u001b[0m\u001b[0;34m\u001b[0m\u001b[0m\n\u001b[0m\u001b[1;32m   2490\u001b[0m             \u001b[0mres\u001b[0m \u001b[0;34m=\u001b[0m \u001b[0mself\u001b[0m\u001b[0;34m.\u001b[0m\u001b[0m_box_item_values\u001b[0m\u001b[0;34m(\u001b[0m\u001b[0mitem\u001b[0m\u001b[0;34m,\u001b[0m \u001b[0mvalues\u001b[0m\u001b[0;34m)\u001b[0m\u001b[0;34m\u001b[0m\u001b[0m\n\u001b[1;32m   2491\u001b[0m             \u001b[0mcache\u001b[0m\u001b[0;34m[\u001b[0m\u001b[0mitem\u001b[0m\u001b[0;34m]\u001b[0m \u001b[0;34m=\u001b[0m \u001b[0mres\u001b[0m\u001b[0;34m\u001b[0m\u001b[0m\n",
      "\u001b[0;32m/anaconda3/lib/python3.6/site-packages/pandas/core/internals.py\u001b[0m in \u001b[0;36mget\u001b[0;34m(self, item, fastpath)\u001b[0m\n\u001b[1;32m   4113\u001b[0m \u001b[0;34m\u001b[0m\u001b[0m\n\u001b[1;32m   4114\u001b[0m             \u001b[0;32mif\u001b[0m \u001b[0;32mnot\u001b[0m \u001b[0misna\u001b[0m\u001b[0;34m(\u001b[0m\u001b[0mitem\u001b[0m\u001b[0;34m)\u001b[0m\u001b[0;34m:\u001b[0m\u001b[0;34m\u001b[0m\u001b[0m\n\u001b[0;32m-> 4115\u001b[0;31m                 \u001b[0mloc\u001b[0m \u001b[0;34m=\u001b[0m \u001b[0mself\u001b[0m\u001b[0;34m.\u001b[0m\u001b[0mitems\u001b[0m\u001b[0;34m.\u001b[0m\u001b[0mget_loc\u001b[0m\u001b[0;34m(\u001b[0m\u001b[0mitem\u001b[0m\u001b[0;34m)\u001b[0m\u001b[0;34m\u001b[0m\u001b[0m\n\u001b[0m\u001b[1;32m   4116\u001b[0m             \u001b[0;32melse\u001b[0m\u001b[0;34m:\u001b[0m\u001b[0;34m\u001b[0m\u001b[0m\n\u001b[1;32m   4117\u001b[0m                 \u001b[0mindexer\u001b[0m \u001b[0;34m=\u001b[0m \u001b[0mnp\u001b[0m\u001b[0;34m.\u001b[0m\u001b[0marange\u001b[0m\u001b[0;34m(\u001b[0m\u001b[0mlen\u001b[0m\u001b[0;34m(\u001b[0m\u001b[0mself\u001b[0m\u001b[0;34m.\u001b[0m\u001b[0mitems\u001b[0m\u001b[0;34m)\u001b[0m\u001b[0;34m)\u001b[0m\u001b[0;34m[\u001b[0m\u001b[0misna\u001b[0m\u001b[0;34m(\u001b[0m\u001b[0mself\u001b[0m\u001b[0;34m.\u001b[0m\u001b[0mitems\u001b[0m\u001b[0;34m)\u001b[0m\u001b[0;34m]\u001b[0m\u001b[0;34m\u001b[0m\u001b[0m\n",
      "\u001b[0;32m/anaconda3/lib/python3.6/site-packages/pandas/core/indexes/base.py\u001b[0m in \u001b[0;36mget_loc\u001b[0;34m(self, key, method, tolerance)\u001b[0m\n\u001b[1;32m   3078\u001b[0m                 \u001b[0;32mreturn\u001b[0m \u001b[0mself\u001b[0m\u001b[0;34m.\u001b[0m\u001b[0m_engine\u001b[0m\u001b[0;34m.\u001b[0m\u001b[0mget_loc\u001b[0m\u001b[0;34m(\u001b[0m\u001b[0mkey\u001b[0m\u001b[0;34m)\u001b[0m\u001b[0;34m\u001b[0m\u001b[0m\n\u001b[1;32m   3079\u001b[0m             \u001b[0;32mexcept\u001b[0m \u001b[0mKeyError\u001b[0m\u001b[0;34m:\u001b[0m\u001b[0;34m\u001b[0m\u001b[0m\n\u001b[0;32m-> 3080\u001b[0;31m                 \u001b[0;32mreturn\u001b[0m \u001b[0mself\u001b[0m\u001b[0;34m.\u001b[0m\u001b[0m_engine\u001b[0m\u001b[0;34m.\u001b[0m\u001b[0mget_loc\u001b[0m\u001b[0;34m(\u001b[0m\u001b[0mself\u001b[0m\u001b[0;34m.\u001b[0m\u001b[0m_maybe_cast_indexer\u001b[0m\u001b[0;34m(\u001b[0m\u001b[0mkey\u001b[0m\u001b[0;34m)\u001b[0m\u001b[0;34m)\u001b[0m\u001b[0;34m\u001b[0m\u001b[0m\n\u001b[0m\u001b[1;32m   3081\u001b[0m \u001b[0;34m\u001b[0m\u001b[0m\n\u001b[1;32m   3082\u001b[0m         \u001b[0mindexer\u001b[0m \u001b[0;34m=\u001b[0m \u001b[0mself\u001b[0m\u001b[0;34m.\u001b[0m\u001b[0mget_indexer\u001b[0m\u001b[0;34m(\u001b[0m\u001b[0;34m[\u001b[0m\u001b[0mkey\u001b[0m\u001b[0;34m]\u001b[0m\u001b[0;34m,\u001b[0m \u001b[0mmethod\u001b[0m\u001b[0;34m=\u001b[0m\u001b[0mmethod\u001b[0m\u001b[0;34m,\u001b[0m \u001b[0mtolerance\u001b[0m\u001b[0;34m=\u001b[0m\u001b[0mtolerance\u001b[0m\u001b[0;34m)\u001b[0m\u001b[0;34m\u001b[0m\u001b[0m\n",
      "\u001b[0;32mpandas/_libs/index.pyx\u001b[0m in \u001b[0;36mpandas._libs.index.IndexEngine.get_loc\u001b[0;34m()\u001b[0m\n",
      "\u001b[0;32mpandas/_libs/index.pyx\u001b[0m in \u001b[0;36mpandas._libs.index.IndexEngine.get_loc\u001b[0;34m()\u001b[0m\n",
      "\u001b[0;32mpandas/_libs/hashtable_class_helper.pxi\u001b[0m in \u001b[0;36mpandas._libs.hashtable.PyObjectHashTable.get_item\u001b[0;34m()\u001b[0m\n",
      "\u001b[0;32mpandas/_libs/hashtable_class_helper.pxi\u001b[0m in \u001b[0;36mpandas._libs.hashtable.PyObjectHashTable.get_item\u001b[0;34m()\u001b[0m\n",
      "\u001b[0;31mKeyError\u001b[0m: 'MA'"
     ]
    },
    {
     "data": {
      "image/png": "[encoded data removed]",
      "text/plain": [
       "<Figure size 432x288 with 1 Axes>"
      ]
     },
     "metadata": {
      "needs_background": "light"
     },
     "output_type": "display_data"
    }
   ],
   "source": [
    "plt.plot(x1_axis, df[\"House Price Index for Houston\"],color=\"blue\", label=\"Houston Price Index\" )\n",
    "plt.plot(x1_axis, df[\"MA\"],color='black',label = \"Moving Average WTI Crude\")\n",
    "\n",
    "plt.legend(loc=\"best\")\n",
    "\n",
    "plt.title(f\"House Price Index vs Oil Price\")\n",
    "plt.ylabel(\"House Price Index\")\n",
    "plt.xlabel(\"Date\")\n",
    "\n",
    "plt.savefig(\"output_plot/House price Index vs MA WTA Oil Price.png\")\n",
    "plt.show()\n"
   ]
  },
  {
   "cell_type": "code",
   "execution_count": null,
   "metadata": {},
   "outputs": [],
   "source": [
    "plt.plot(x1_axis, df[\"House Price Index for Houston\"],color=\"blue\", label=\"Houston Price Index\" )\n",
    "plt.plot(x1_axis, df[\"Construction in Houston\"],color=\"green\", label=\"Construction\" )\n",
    "plt.plot(x1_axis, df[\"Education and Health Services\"],color=\"orange\", label=\"Education-Health\" )\n",
    "plt.plot(x1_axis, df[\"Trade, Transportation, and Utilities\"],color=\"brown\", label=\"TTU\" )\n",
    "plt.plot(x1_axis, df[\"Mining and Logging\"],color=\"purple\", label=\"Mining and Logging\" )\n",
    "plt.plot(x1_axis, df[\"Manufacturing\"],color=\"red\", label=\"Manufacturing\" )\n",
    "plt.plot(x1_axis, df[\"Oil and Gas Extraction\"],color=\"black\", label=\"Oil and Gas Extraction\" )\n",
    "\n",
    "plt.legend(loc=\"best\")\n",
    "\n",
    "plt.title(f\"House Price Index vs Industry Employment\")\n",
    "plt.ylabel(\"House Price Index\")\n",
    "plt.xlabel(\"Date\")\n",
    "\n",
    "plt.savefig(\"output_plot/House Price Index vs Industry Employment\")\n",
    "plt.show()"
   ]
  },
  {
   "cell_type": "code",
   "execution_count": null,
   "metadata": {},
   "outputs": [],
   "source": [
    "plt.plot(x1_axis, df[\"House Price Index for Houston\"],color=\"blue\", label=\"Houston Price Index\" )\n",
    "plt.plot(x1_axis, df[\"30Yr Fixed Mortgage Rate\"],color=\"green\", label=\"Mortgage Rate\" )\n",
    "plt.plot(x1_axis, df[\"CPI for Houston\"],color=\"orange\", label=\"CPI for Houston\" )\n",
    "\n",
    "plt.legend(loc=\"best\")\n",
    "\n",
    "plt.title(f\"HPI vs Mortagage vs CPI\")\n",
    "plt.ylabel(\"TBD\")\n",
    "plt.xlabel(\"Date\")\n",
    "\n",
    "plt.savefig(\"output_plot/HPI vs Mortagage vs CPI\")\n",
    "plt.show()"
   ]
  },
  {
   "cell_type": "code",
   "execution_count": null,
   "metadata": {},
   "outputs": [],
   "source": [
    "dff.head()"
   ]
  },
  {
   "cell_type": "code",
   "execution_count": null,
   "metadata": {},
   "outputs": [],
   "source": [
    "dff.columns\n",
    "dff['Houston_Population']=dff['Population in Harris County']\\\n",
    "                        +dff['Population in Fort Bend County']\\\n",
    "                        +dff['Population in Montgomery County']\\\n",
    "+dff['Population in Galveston County']\\\n",
    "+dff['Population in Brazoria County']\\\n",
    "+dff['Population in Liberty County']\\\n",
    "+dff['Population in Waller County']\\\n",
    "+dff['Population in Chambers County']\\\n",
    "+dff['Population in Austin County']\n",
    "\n",
    "\n",
    "dff['Difference'] = dff['Houston_Population'].diff()\n",
    "\n",
    "dff.head()"
   ]
  },
  {
   "cell_type": "code",
   "execution_count": null,
   "metadata": {},
   "outputs": [],
   "source": [
    "df[\"Houston_Population\"] = dff['Difference']\n",
    "df.to_csv('output_data/Houston_df.csv')\n",
    "df.head()"
   ]
  },
  {
   "cell_type": "code",
   "execution_count": null,
   "metadata": {},
   "outputs": [],
   "source": [
    "x2_axis =dff.index.values\n",
    "plt.plot(x2_axis, dff[\"Houston_Population\"],color=\"red\", label=\"Houston Population\" )\n",
    "plt.plot(x1_axis, df[\"House Price Index for Houston\"].values*20,color=\"blue\", label=\"Houston Price Index\" )\n",
    "plt.legend(loc=\"best\")\n",
    "\n",
    "plt.title(f\"Houston Population\")\n",
    "plt.ylabel(\"Thousands\")\n",
    "plt.xlabel(\"Year\")\n",
    "\n",
    "plt.savefig(\"Houston Population\")\n",
    "plt.show()"
   ]
  },
  {
   "cell_type": "code",
   "execution_count": 22,
   "metadata": {},
   "outputs": [
    {
     "data": {
      "image/png": "[encoded data removed]",
      "text/plain": [
       "<Figure size 432x288 with 1 Axes>"
      ]
     },
     "metadata": {
      "needs_background": "light"
     },
     "output_type": "display_data"
    }
   ],
   "source": [
    "plt.plot(x1_axis, df[\"Unemployment Rate in Houston\"],color=\"blue\", label=\"Unemployment Rate in Houston\" )\n",
    "\n",
    "plt.legend(loc=\"best\")\n",
    "\n",
    "plt.title(f\"Unemployment Rate in Houston\")\n",
    "plt.ylabel(\"Percent\")\n",
    "plt.xlabel(\"Year\")\n",
    "\n",
    "plt.savefig(\"output_data/Unemployment Rate in Houston\")\n",
    "plt.show()"
   ]
  },
  {
   "cell_type": "code",
   "execution_count": null,
   "metadata": {},
   "outputs": [],
   "source": []
  }
 ],
 "metadata": {
  "anaconda-cloud": {},
  "kernelspec": {
   "display_name": "Python 3",
   "language": "python",
   "name": "python3"
  },
  "language_info": {
   "codemirror_mode": {
    "name": "ipython",
    "version": 3
   },
   "file_extension": ".py",
   "mimetype": "text/x-python",
   "name": "python",
   "nbconvert_exporter": "python",
   "pygments_lexer": "ipython3",
   "version": "3.6.6"
  }
 },
 "nbformat": 4,
 "nbformat_minor": 2
}
